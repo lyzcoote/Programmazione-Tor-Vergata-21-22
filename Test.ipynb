{
 "cells": [
  {
   "cell_type": "code",
   "execution_count": 1,
   "id": "79a99268",
   "metadata": {},
   "outputs": [
    {
     "name": "stdout",
     "output_type": "stream",
     "text": [
      "hello world\n"
     ]
    }
   ],
   "source": [
    "print(\"hello world\")"
   ]
  },
  {
   "cell_type": "code",
   "execution_count": 1,
   "id": "4c8ea751",
   "metadata": {},
   "outputs": [
    {
     "name": "stdout",
     "output_type": "stream",
     "text": [
      "Lyz the Protogen!\n"
     ]
    }
   ],
   "source": [
    "print(\"Lyz the Protogen!\")"
   ]
  },
  {
   "cell_type": "code",
   "execution_count": 2,
   "id": "91577c94",
   "metadata": {},
   "outputs": [],
   "source": [
    "lyz = \"Protoboio\""
   ]
  },
  {
   "cell_type": "code",
   "execution_count": 4,
   "id": "eae34f7e",
   "metadata": {},
   "outputs": [
    {
     "name": "stdout",
     "output_type": "stream",
     "text": [
      "Protoboio\n"
     ]
    }
   ],
   "source": [
    "print(lyz)"
   ]
  },
  {
   "cell_type": "code",
   "execution_count": null,
   "id": "1d339ac4",
   "metadata": {},
   "outputs": [],
   "source": []
  }
 ],
 "metadata": {
  "kernelspec": {
   "display_name": "Python 3 (ipykernel)",
   "language": "python",
   "name": "python3"
  },
  "language_info": {
   "codemirror_mode": {
    "name": "ipython",
    "version": 3
   },
   "file_extension": ".py",
   "mimetype": "text/x-python",
   "name": "python",
   "nbconvert_exporter": "python",
   "pygments_lexer": "ipython3",
   "version": "3.9.7"
  }
 },
 "nbformat": 4,
 "nbformat_minor": 5
}
